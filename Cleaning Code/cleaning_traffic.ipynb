{
 "cells": [
  {
   "cell_type": "code",
   "execution_count": 3,
   "metadata": {},
   "outputs": [],
   "source": [
    "import csv\n",
    "import pandas as pd\n",
    "import numpy as np"
   ]
  },
  {
   "cell_type": "code",
   "execution_count": 33,
   "metadata": {},
   "outputs": [],
   "source": [
    "traffic_df_old = pd.read_csv(\"Chicago_Traffic_2011-2018.csv\", nrows = 2000)"
   ]
  },
  {
   "cell_type": "code",
   "execution_count": 65,
   "metadata": {},
   "outputs": [
    {
     "data": {
      "text/html": [
       "<div>\n",
       "<style scoped>\n",
       "    .dataframe tbody tr th:only-of-type {\n",
       "        vertical-align: middle;\n",
       "    }\n",
       "\n",
       "    .dataframe tbody tr th {\n",
       "        vertical-align: top;\n",
       "    }\n",
       "\n",
       "    .dataframe thead th {\n",
       "        text-align: right;\n",
       "    }\n",
       "</style>\n",
       "<table border=\"1\" class=\"dataframe\">\n",
       "  <thead>\n",
       "    <tr style=\"text-align: right;\">\n",
       "      <th></th>\n",
       "      <th>timestamp_id</th>\n",
       "      <th>segment_id</th>\n",
       "      <th>bus_count</th>\n",
       "      <th>gps_pings</th>\n",
       "      <th>speed</th>\n",
       "      <th>speed_category</th>\n",
       "    </tr>\n",
       "  </thead>\n",
       "  <tbody>\n",
       "    <tr>\n",
       "      <th>0</th>\n",
       "      <td>01/16/2013 11:50:32 PM</td>\n",
       "      <td>116</td>\n",
       "      <td>2</td>\n",
       "      <td>7</td>\n",
       "      <td>18</td>\n",
       "      <td>medium</td>\n",
       "    </tr>\n",
       "    <tr>\n",
       "      <th>1</th>\n",
       "      <td>02/24/2013 11:50:32 PM</td>\n",
       "      <td>54</td>\n",
       "      <td>2</td>\n",
       "      <td>11</td>\n",
       "      <td>23</td>\n",
       "      <td>regular</td>\n",
       "    </tr>\n",
       "    <tr>\n",
       "      <th>2</th>\n",
       "      <td>02/17/2013 11:50:32 PM</td>\n",
       "      <td>597</td>\n",
       "      <td>0</td>\n",
       "      <td>0</td>\n",
       "      <td>-1</td>\n",
       "      <td>slow</td>\n",
       "    </tr>\n",
       "    <tr>\n",
       "      <th>3</th>\n",
       "      <td>02/23/2013 11:50:32 PM</td>\n",
       "      <td>363</td>\n",
       "      <td>1</td>\n",
       "      <td>4</td>\n",
       "      <td>25</td>\n",
       "      <td>regular</td>\n",
       "    </tr>\n",
       "    <tr>\n",
       "      <th>4</th>\n",
       "      <td>12/01/2014 11:50:32 PM</td>\n",
       "      <td>203</td>\n",
       "      <td>0</td>\n",
       "      <td>0</td>\n",
       "      <td>-1</td>\n",
       "      <td>slow</td>\n",
       "    </tr>\n",
       "  </tbody>\n",
       "</table>\n",
       "</div>"
      ],
      "text/plain": [
       "             timestamp_id  segment_id  bus_count  gps_pings  speed  \\\n",
       "0  01/16/2013 11:50:32 PM         116          2          7     18   \n",
       "1  02/24/2013 11:50:32 PM          54          2         11     23   \n",
       "2  02/17/2013 11:50:32 PM         597          0          0     -1   \n",
       "3  02/23/2013 11:50:32 PM         363          1          4     25   \n",
       "4  12/01/2014 11:50:32 PM         203          0          0     -1   \n",
       "\n",
       "  speed_category  \n",
       "0         medium  \n",
       "1        regular  \n",
       "2           slow  \n",
       "3        regular  \n",
       "4           slow  "
      ]
     },
     "execution_count": 65,
     "metadata": {},
     "output_type": "execute_result"
    }
   ],
   "source": [
    "traffic_df_old.head()"
   ]
  },
  {
   "cell_type": "code",
   "execution_count": 67,
   "metadata": {},
   "outputs": [
    {
     "data": {
      "text/plain": [
       "timestamp_id      object\n",
       "segment_id         int64\n",
       "bus_count          int64\n",
       "gps_pings          int64\n",
       "speed              int64\n",
       "speed_category    object\n",
       "dtype: object"
      ]
     },
     "execution_count": 67,
     "metadata": {},
     "output_type": "execute_result"
    }
   ],
   "source": [
    "traffic_df_old.dtypes"
   ]
  },
  {
   "cell_type": "code",
   "execution_count": 61,
   "metadata": {},
   "outputs": [
    {
     "ename": "ValueError",
     "evalue": "Length mismatch: Expected axis has 6 elements, new values have 5 elements",
     "output_type": "error",
     "traceback": [
      "\u001b[1;31m---------------------------------------------------------------------------\u001b[0m",
      "\u001b[1;31mValueError\u001b[0m                                Traceback (most recent call last)",
      "\u001b[1;32m<ipython-input-61-481cb530eeba>\u001b[0m in \u001b[0;36m<module>\u001b[1;34m\u001b[0m\n\u001b[0;32m      1\u001b[0m \u001b[1;31m# Change names\u001b[0m\u001b[1;33m\u001b[0m\u001b[1;33m\u001b[0m\u001b[1;33m\u001b[0m\u001b[0m\n\u001b[1;32m----> 2\u001b[1;33m \u001b[0mtraffic_df_old\u001b[0m\u001b[1;33m.\u001b[0m\u001b[0mcolumns\u001b[0m \u001b[1;33m=\u001b[0m \u001b[1;33m[\u001b[0m\u001b[1;34m\"timestamp_id\"\u001b[0m\u001b[1;33m,\u001b[0m \u001b[1;34m\"segment_id\"\u001b[0m\u001b[1;33m,\u001b[0m \u001b[1;34m\"bus_count\"\u001b[0m\u001b[1;33m,\u001b[0m \u001b[1;34m\"gps_pings\"\u001b[0m\u001b[1;33m,\u001b[0m \u001b[1;34m\"speed\"\u001b[0m\u001b[1;33m]\u001b[0m\u001b[1;33m\u001b[0m\u001b[1;33m\u001b[0m\u001b[0m\n\u001b[0m\u001b[0;32m      3\u001b[0m \u001b[1;33m\u001b[0m\u001b[0m\n\u001b[0;32m      4\u001b[0m \u001b[1;31m# Change datetime\u001b[0m\u001b[1;33m\u001b[0m\u001b[1;33m\u001b[0m\u001b[1;33m\u001b[0m\u001b[0m\n\u001b[0;32m      5\u001b[0m \u001b[0mpd\u001b[0m\u001b[1;33m.\u001b[0m\u001b[0mto_datetime\u001b[0m\u001b[1;33m(\u001b[0m\u001b[0mtraffic_df_old\u001b[0m\u001b[1;33m[\u001b[0m\u001b[0mtimestamp_id\u001b[0m\u001b[1;33m]\u001b[0m\u001b[1;33m)\u001b[0m\u001b[1;33m\u001b[0m\u001b[1;33m\u001b[0m\u001b[0m\n",
      "\u001b[1;32m~\\Anaconda3\\lib\\site-packages\\pandas\\core\\generic.py\u001b[0m in \u001b[0;36m__setattr__\u001b[1;34m(self, name, value)\u001b[0m\n\u001b[0;32m   5078\u001b[0m         \u001b[1;32mtry\u001b[0m\u001b[1;33m:\u001b[0m\u001b[1;33m\u001b[0m\u001b[1;33m\u001b[0m\u001b[0m\n\u001b[0;32m   5079\u001b[0m             \u001b[0mobject\u001b[0m\u001b[1;33m.\u001b[0m\u001b[0m__getattribute__\u001b[0m\u001b[1;33m(\u001b[0m\u001b[0mself\u001b[0m\u001b[1;33m,\u001b[0m \u001b[0mname\u001b[0m\u001b[1;33m)\u001b[0m\u001b[1;33m\u001b[0m\u001b[1;33m\u001b[0m\u001b[0m\n\u001b[1;32m-> 5080\u001b[1;33m             \u001b[1;32mreturn\u001b[0m \u001b[0mobject\u001b[0m\u001b[1;33m.\u001b[0m\u001b[0m__setattr__\u001b[0m\u001b[1;33m(\u001b[0m\u001b[0mself\u001b[0m\u001b[1;33m,\u001b[0m \u001b[0mname\u001b[0m\u001b[1;33m,\u001b[0m \u001b[0mvalue\u001b[0m\u001b[1;33m)\u001b[0m\u001b[1;33m\u001b[0m\u001b[1;33m\u001b[0m\u001b[0m\n\u001b[0m\u001b[0;32m   5081\u001b[0m         \u001b[1;32mexcept\u001b[0m \u001b[0mAttributeError\u001b[0m\u001b[1;33m:\u001b[0m\u001b[1;33m\u001b[0m\u001b[1;33m\u001b[0m\u001b[0m\n\u001b[0;32m   5082\u001b[0m             \u001b[1;32mpass\u001b[0m\u001b[1;33m\u001b[0m\u001b[1;33m\u001b[0m\u001b[0m\n",
      "\u001b[1;32mpandas/_libs/properties.pyx\u001b[0m in \u001b[0;36mpandas._libs.properties.AxisProperty.__set__\u001b[1;34m()\u001b[0m\n",
      "\u001b[1;32m~\\Anaconda3\\lib\\site-packages\\pandas\\core\\generic.py\u001b[0m in \u001b[0;36m_set_axis\u001b[1;34m(self, axis, labels)\u001b[0m\n\u001b[0;32m    636\u001b[0m \u001b[1;33m\u001b[0m\u001b[0m\n\u001b[0;32m    637\u001b[0m     \u001b[1;32mdef\u001b[0m \u001b[0m_set_axis\u001b[0m\u001b[1;33m(\u001b[0m\u001b[0mself\u001b[0m\u001b[1;33m,\u001b[0m \u001b[0maxis\u001b[0m\u001b[1;33m,\u001b[0m \u001b[0mlabels\u001b[0m\u001b[1;33m)\u001b[0m\u001b[1;33m:\u001b[0m\u001b[1;33m\u001b[0m\u001b[1;33m\u001b[0m\u001b[0m\n\u001b[1;32m--> 638\u001b[1;33m         \u001b[0mself\u001b[0m\u001b[1;33m.\u001b[0m\u001b[0m_data\u001b[0m\u001b[1;33m.\u001b[0m\u001b[0mset_axis\u001b[0m\u001b[1;33m(\u001b[0m\u001b[0maxis\u001b[0m\u001b[1;33m,\u001b[0m \u001b[0mlabels\u001b[0m\u001b[1;33m)\u001b[0m\u001b[1;33m\u001b[0m\u001b[1;33m\u001b[0m\u001b[0m\n\u001b[0m\u001b[0;32m    639\u001b[0m         \u001b[0mself\u001b[0m\u001b[1;33m.\u001b[0m\u001b[0m_clear_item_cache\u001b[0m\u001b[1;33m(\u001b[0m\u001b[1;33m)\u001b[0m\u001b[1;33m\u001b[0m\u001b[1;33m\u001b[0m\u001b[0m\n\u001b[0;32m    640\u001b[0m \u001b[1;33m\u001b[0m\u001b[0m\n",
      "\u001b[1;32m~\\Anaconda3\\lib\\site-packages\\pandas\\core\\internals\\managers.py\u001b[0m in \u001b[0;36mset_axis\u001b[1;34m(self, axis, new_labels)\u001b[0m\n\u001b[0;32m    153\u001b[0m             raise ValueError(\n\u001b[0;32m    154\u001b[0m                 \u001b[1;34m'Length mismatch: Expected axis has {old} elements, new '\u001b[0m\u001b[1;33m\u001b[0m\u001b[1;33m\u001b[0m\u001b[0m\n\u001b[1;32m--> 155\u001b[1;33m                 'values have {new} elements'.format(old=old_len, new=new_len))\n\u001b[0m\u001b[0;32m    156\u001b[0m \u001b[1;33m\u001b[0m\u001b[0m\n\u001b[0;32m    157\u001b[0m         \u001b[0mself\u001b[0m\u001b[1;33m.\u001b[0m\u001b[0maxes\u001b[0m\u001b[1;33m[\u001b[0m\u001b[0maxis\u001b[0m\u001b[1;33m]\u001b[0m \u001b[1;33m=\u001b[0m \u001b[0mnew_labels\u001b[0m\u001b[1;33m\u001b[0m\u001b[1;33m\u001b[0m\u001b[0m\n",
      "\u001b[1;31mValueError\u001b[0m: Length mismatch: Expected axis has 6 elements, new values have 5 elements"
     ]
    }
   ],
   "source": [
    "# Change names\n",
    "traffic_df_old.columns = [\"timestamp_id\", \"segment_id\", \"bus_count\", \"gps_pings\", \"speed\"]\n",
    "\n",
    "# Change datetime\n",
    "pd.to_datetime(traffic_df_old.timestamp_id)\n",
    "\n",
    "# Add columns\n",
    "def speed_condition(c):\n",
    "  if c['speed'] < 10:\n",
    "    return 'slow'\n",
    "  elif 10 <= c['speed'] < 20:\n",
    "    return 'medium'\n",
    "  elif c['speed'] >= 20:\n",
    "    return 'regular'\n",
    "  else:\n",
    "    return 'undefined'\n",
    "\n",
    "traffic_df_old[\"speed_category\"] = traffic_df_old.apply(speed_condition, axis = 1)\n",
    "\n",
    "traffic_df_old[\"comments\"] = \"\""
   ]
  },
  {
   "cell_type": "code",
   "execution_count": 64,
   "metadata": {},
   "outputs": [
    {
     "data": {
      "text/plain": [
       "0      2013-01-16 23:50:32\n",
       "1      2013-02-24 23:50:32\n",
       "2      2013-02-17 23:50:32\n",
       "3      2013-02-23 23:50:32\n",
       "4      2014-12-01 23:50:32\n",
       "5      2014-12-24 23:50:32\n",
       "6      2014-12-05 23:50:32\n",
       "7      2014-12-11 23:50:32\n",
       "8      2014-12-24 23:50:32\n",
       "9      2014-12-01 23:50:32\n",
       "10     2014-12-13 23:50:32\n",
       "11     2013-02-23 23:50:32\n",
       "12     2013-01-26 23:50:32\n",
       "13     2014-11-29 23:50:32\n",
       "14     2013-01-23 23:50:32\n",
       "15     2013-02-13 23:50:32\n",
       "16     2013-01-18 23:50:32\n",
       "17     2013-02-06 23:50:32\n",
       "18     2014-12-29 23:50:32\n",
       "19     2014-12-19 23:50:32\n",
       "20     2014-12-18 23:50:32\n",
       "21     2013-01-16 23:50:32\n",
       "22     2013-02-12 23:50:32\n",
       "23     2014-12-07 23:50:32\n",
       "24     2013-01-22 23:50:32\n",
       "25     2013-01-22 23:50:32\n",
       "26     2014-12-20 23:50:32\n",
       "27     2013-02-07 23:50:32\n",
       "28     2014-12-05 23:50:32\n",
       "29     2014-12-19 23:50:32\n",
       "               ...        \n",
       "1970   2013-02-15 23:50:32\n",
       "1971   2013-01-30 23:50:32\n",
       "1972   2013-01-20 23:50:32\n",
       "1973   2014-12-21 23:50:32\n",
       "1974   2014-12-08 23:50:32\n",
       "1975   2014-12-20 23:50:32\n",
       "1976   2013-01-20 23:50:32\n",
       "1977   2014-12-18 23:50:32\n",
       "1978   2013-02-06 23:50:32\n",
       "1979   2014-11-28 23:50:32\n",
       "1980   2013-02-02 23:50:32\n",
       "1981   2014-12-26 23:50:32\n",
       "1982   2014-12-07 23:50:32\n",
       "1983   2014-12-16 23:50:32\n",
       "1984   2013-02-06 23:50:32\n",
       "1985   2013-02-27 23:50:32\n",
       "1986   2013-02-11 23:50:32\n",
       "1987   2014-12-25 23:50:32\n",
       "1988   2014-12-06 23:50:32\n",
       "1989   2013-01-22 23:50:32\n",
       "1990   2013-02-24 23:50:32\n",
       "1991   2013-02-18 23:50:32\n",
       "1992   2013-02-16 23:50:32\n",
       "1993   2013-02-04 23:50:32\n",
       "1994   2013-02-18 23:50:32\n",
       "1995   2014-12-11 23:50:32\n",
       "1996   2014-12-22 23:50:32\n",
       "1997   2013-02-07 23:50:32\n",
       "1998   2013-02-02 23:50:32\n",
       "1999   2014-12-03 23:50:32\n",
       "Name: timestamp_id, Length: 2000, dtype: datetime64[ns]"
      ]
     },
     "execution_count": 64,
     "metadata": {},
     "output_type": "execute_result"
    }
   ],
   "source": [
    "pd.to_datetime(traffic_df_old.timestamp_id)"
   ]
  },
  {
   "cell_type": "code",
   "execution_count": null,
   "metadata": {},
   "outputs": [],
   "source": []
  },
  {
   "cell_type": "code",
   "execution_count": 44,
   "metadata": {},
   "outputs": [
    {
     "ename": "SyntaxError",
     "evalue": "invalid syntax (<ipython-input-44-d457c589e5c1>, line 1)",
     "output_type": "error",
     "traceback": [
      "\u001b[1;36m  File \u001b[1;32m\"<ipython-input-44-d457c589e5c1>\"\u001b[1;36m, line \u001b[1;32m1\u001b[0m\n\u001b[1;33m    If trafiic_df_old[\"speed\"]<10:\u001b[0m\n\u001b[1;37m                    ^\u001b[0m\n\u001b[1;31mSyntaxError\u001b[0m\u001b[1;31m:\u001b[0m invalid syntax\n"
     ]
    }
   ],
   "source": []
  },
  {
   "cell_type": "code",
   "execution_count": null,
   "metadata": {},
   "outputs": [],
   "source": []
  }
 ],
 "metadata": {
  "kernelspec": {
   "display_name": "Python 3",
   "language": "python",
   "name": "python3"
  },
  "language_info": {
   "codemirror_mode": {
    "name": "ipython",
    "version": 3
   },
   "file_extension": ".py",
   "mimetype": "text/x-python",
   "name": "python",
   "nbconvert_exporter": "python",
   "pygments_lexer": "ipython3",
   "version": "3.7.3"
  }
 },
 "nbformat": 4,
 "nbformat_minor": 2
}
